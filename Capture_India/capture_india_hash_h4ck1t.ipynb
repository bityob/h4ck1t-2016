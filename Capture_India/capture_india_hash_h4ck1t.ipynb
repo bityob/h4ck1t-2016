{
 "cells": [
  {
   "cell_type": "code",
   "execution_count": 12,
   "metadata": {
    "collapsed": true
   },
   "outputs": [],
   "source": [
    "# This is how it challange looks like (only example)\n",
    "# We have a output message and we need to decode it\n",
    "# You have only 60 seconds before another new output will be generated"
   ]
  },
  {
   "cell_type": "markdown",
   "metadata": {},
   "source": [
    "![title](capture_india_example.JPG)"
   ]
  },
  {
   "cell_type": "code",
   "execution_count": 13,
   "metadata": {
    "collapsed": true
   },
   "outputs": [],
   "source": [
    "# Little bit explnation:\n",
    "\n",
    "# I tried to understand, how this hash function works.\n",
    "# I used the 'Generator' tool to see how each letter is coded, \n",
    "# and how combinations of letters (words) are coded together.\n",
    "\n",
    "\n",
    "\n",
    "# each letter alone is coded with 8 chars:\n",
    "\n",
    "# a - TiKCKWCC\n",
    "# b - HxPCfbCC\n",
    "# c - fJJC+/CC\n",
    "# d - blqCgqCC\n",
    "\n",
    "# when letters are combined together\n",
    "# the last letter is still the same as before in the end of the output\n",
    "\n",
    "# ab - TiLxHxPCfbCC -> (b = HxPCfbCC)\n",
    "# abc - TiLYHxQTfJJC+/CC -> (c = fJJC+/CC)\n",
    "# abcd - TiLYHxQxfJk3blqCgqCC (d = blqCgqCC)\n",
    "\n",
    "# the other letters are coded now in 4 letters each one (not 8 as before),\n",
    "# and the first two letters is the same is previous \n",
    "# the last two letters seems that doesn't matter\n",
    "\n",
    "# for example:\n",
    "\n",
    "# ab - TiLxHxPCfbCC\n",
    "# => a = TiLx,  b = HxPCfbCC\n",
    "# in 'a' the first two letters 'Ti' are the same as the first two letters when 'a' is coded alone\n",
    "\n",
    "# another example:\n",
    "# abcd - TiLY (=a) HxQx (=b) fJk3 (=c) blqCgqCC (=d)"
   ]
  },
  {
   "cell_type": "code",
   "execution_count": 14,
   "metadata": {
    "collapsed": true
   },
   "outputs": [],
   "source": [
    "# first, we will build a dictionary to map between all printable chars,\n",
    "# to their coded hash\n",
    "# I am going to use the 'Generate' api for this"
   ]
  },
  {
   "cell_type": "code",
   "execution_count": 15,
   "metadata": {
    "collapsed": true
   },
   "outputs": [],
   "source": [
    "import requests "
   ]
  },
  {
   "cell_type": "code",
   "execution_count": 16,
   "metadata": {
    "collapsed": true
   },
   "outputs": [],
   "source": [
    "url = \"http://3a5yc7ypt0.hack-quest.com/\""
   ]
  },
  {
   "cell_type": "code",
   "execution_count": 17,
   "metadata": {
    "collapsed": true
   },
   "outputs": [],
   "source": [
    "# must use 'User-Agent', otherwise the request is blocked \n",
    "\n",
    "# must user a cookie, otherwise you receive the same output for each input\n",
    "# this: \"LxGCMbCC+/CC\" is 'None' output\n",
    "\n",
    "headers = {\n",
    "    \"User-Agent\" : \"Mozilla/5.0 (Windows NT 10.0; WOW64) AppleWebKit/537.36 (KHTML, like Gecko) Chrome/53.0.2785.116 Safari/537.36\",\n",
    "    \"Cookie\" : \"PHPSESSID=ilol8rele0j92rungpijks2641\" \n",
    "}"
   ]
  },
  {
   "cell_type": "code",
   "execution_count": 18,
   "metadata": {
    "collapsed": false
   },
   "outputs": [],
   "source": [
    "# simple function, input: string to generate from, output: the hash\n",
    "def generate(string):\n",
    "    data = {\"data\" : string}\n",
    "    res = requests.post(url, data=data, headers=headers)\n",
    "    return res.text"
   ]
  },
  {
   "cell_type": "code",
   "execution_count": 19,
   "metadata": {
    "collapsed": false
   },
   "outputs": [],
   "source": [
    "# use the string module to get all printable chars\n",
    "# (after solving it, I can tell there is no need to all printable chars, only letters and numbers)\n",
    "import string"
   ]
  },
  {
   "cell_type": "code",
   "execution_count": 20,
   "metadata": {
    "collapsed": true
   },
   "outputs": [],
   "source": [
    "# I'm keeping two dictionaries for both directions \n",
    "letter_2_hash = {}\n",
    "hash_2_letter = {}"
   ]
  },
  {
   "cell_type": "code",
   "execution_count": 21,
   "metadata": {
    "collapsed": false
   },
   "outputs": [
    {
     "name": "stdout",
     "output_type": "stream",
     "text": [
      "0 fWCCSWCC\n",
      "1 HiNCHqCC\n",
      "2 HkgCnWCC\n",
      "3 n6nCL/CC\n",
      "4 LoPCTqCC\n",
      "5 TlbCKbCC\n",
      "6 KfnCD/CC\n",
      "7 DIGCf/CC\n",
      "8 fGWCSWCC\n",
      "9 S5qCfWCC\n",
      "a TiKCKWCC\n",
      "b HxPCfbCC\n",
      "c fJJC+/CC\n",
      "d blqCgqCC\n",
      "e ghSCMWCC\n",
      "f iIzCp/CC\n",
      "g MoWCpWCC\n",
      "h HozCebCC\n",
      "i 0f5CLbCC\n",
      "j nigCAWCC\n",
      "k AJKCT/CC\n",
      "l A8bCMbCC\n",
      "m Tx5C0/CC\n",
      "n gjbCDqCC\n",
      "o nG3CSqCC\n",
      "p MtSCnqCC\n",
      "q SjSC+qCC\n",
      "r +iwC0WCC\n",
      "s ijKCDbCC\n",
      "t SG5CbWCC\n",
      "u eGPCpbCC\n",
      "v 0m5CLqCC\n",
      "w AinCKqCC\n",
      "x biSCgWCC\n",
      "y i6PCDWCC\n",
      "z +5zCHbCC\n",
      "A LxKCTbCC\n",
      "B K4gCHWCC\n",
      "C fHKCfqCC\n",
      "D +GwCbqCC\n",
      "E gJSCg/CC\n",
      "F M6/Ci/CC\n",
      "G phWCM/CC\n",
      "H pxWCH/CC\n",
      "I eHbC0bCC\n",
      "J LjgCnbCC\n",
      "K AyGCAqCC\n",
      "L TGnCA/CC\n",
      "M MgbCTWCC\n",
      "N 08KCgbCC\n",
      "O DkGCn/CC\n",
      "P Sm/CMqCC\n",
      "Q nl3CSbCC\n",
      "R +tGC+bCC\n",
      "S 0xJCibCC\n",
      "T DH5CS/CC\n",
      "U b4/Ce/CC\n",
      "V pfWC0qCC\n",
      "W LmnCAbCC\n",
      "X KJgCbbCC\n",
      "Y g5GCiWCC\n",
      "Z D6zC+WCC\n",
      "! LxGCMbCC+/CC\n",
      "\" LxGCMbCC+/CC\n",
      "# LxGCMbCC+/CC\n",
      "$ LxGCMbCC+/CC\n",
      "% LxGCMbCC+/CC\n",
      "& LxGCMbCC+/CC\n",
      "' LxGCMbCC+/CC\n",
      "( LxGCMbCC+/CC\n",
      ") LxGCMbCC+/CC\n",
      "* LxGCMbCC+/CC\n",
      "+ LxGCMbCC+/CC\n",
      ", LxGCMbCC+/CC\n",
      "- LxGCMbCC+/CC\n",
      ". LxGCMbCC+/CC\n",
      "/ LxGCMbCC+/CC\n",
      ": LxGCMbCC+/CC\n",
      "; LxGCMbCC+/CC\n",
      "< LxGCMbCC+/CC\n",
      "= LxGCMbCC+/CC\n",
      "> LxGCMbCC+/CC\n",
      "? LxGCMbCC+/CC\n",
      "@ LxGCMbCC+/CC\n",
      "[ LxGCMbCC+/CC\n",
      "\\ LxGCMbCC+/CC\n",
      "] LxGCMbCC+/CC\n",
      "^ LxGCMbCC+/CC\n",
      "_ LxGCMbCC+/CC\n",
      "` LxGCMbCC+/CC\n",
      "{ LxGCMbCC+/CC\n",
      "| LxGCMbCC+/CC\n",
      "} LxGCMbCC+/CC\n",
      "~ LxGCMbCC+/CC\n",
      "  LxGCMbCC+/CC\n",
      "\t LxGCMbCC+/CC\n",
      "\n",
      " LxGCMbCC+/CC\n",
      " LxGCMbCC+/CC\n",
      "\u000b",
      " LxGCMbCC+/CC\n",
      "\f",
      " LxGCMbCC+/CC\n",
      "Done.\n"
     ]
    }
   ],
   "source": [
    "# each char will be save with its output to the dictionaries\n",
    "for letter in string.printable: \n",
    "    letter_hash = generate(letter)\n",
    "    letter_2_hash[letter] = letter_hash\n",
    "    hash_2_letter[letter_hash] = letter\n",
    "    print(letter, letter_hash)\n",
    "\n",
    "print(\"Done.\")"
   ]
  },
  {
   "cell_type": "code",
   "execution_count": 30,
   "metadata": {
    "collapsed": false
   },
   "outputs": [],
   "source": [
    "# the output to decode \n",
    "task = \"phXzn605+th9eGQupxXgTx6JKJH1fGWs0f66TlAXTlAXpxXgSG62nG3tniHI+Gc8+iclpfXmblrfbiTDSjTan605DH5q\" + \\\n",
    "\"fJk3blrfHkHsM61KKf0PfHLUg5hM+th9DH5qpxXgTiLY08LA+iclDH5qghT7blrfAi04phXziIBNTiLYDH5qKf0PbiTDi6QRLjH\" + \\\n",
    "\"rTx6JphXzK4Hi08LA+5BH0f66iIBN+th9Sm1=MoXZn605eGQuKJH1ghT7D6BVDH5CS/CC\"\n",
    "updated_task = task"
   ]
  },
  {
   "cell_type": "code",
   "execution_count": 31,
   "metadata": {
    "collapsed": false
   },
   "outputs": [
    {
     "name": "stdout",
     "output_type": "stream",
     "text": [
      "T DH5CS/CC\n"
     ]
    }
   ],
   "source": [
    "# save the last char (because it is  8 chars length)\n",
    "def extract_last_char(updated_task):\n",
    "    end = []\n",
    "    end.append(hash_2_letter[updated_task[-8:]])\n",
    "\n",
    "    # remove it from the updated_task variable\n",
    "    updated_task = updated_task.replace(updated_task[-8:], \"\")\n",
    "\n",
    "    print(end[0], letter_2_hash[end[0]])\n",
    "    \n",
    "    return end, updated_task\n",
    "\n",
    "end, updated_task = extract_last_char(updated_task)"
   ]
  },
  {
   "cell_type": "code",
   "execution_count": 32,
   "metadata": {
    "collapsed": false
   },
   "outputs": [
    {
     "data": {
      "text/plain": [
       "['KJH1', 'ghT7', 'D6BV']"
      ]
     },
     "execution_count": 32,
     "metadata": {},
     "output_type": "execute_result"
    }
   ],
   "source": [
    "# because each letter is coded into 4 chars, split it in chunks of 4 chars \n",
    "# taken from: http://stackoverflow.com/a/9475354/2135245\n",
    "n = 4\n",
    "list_updated_task = [updated_task[i:i+n] for i in range(0, len(updated_task), n)] \n",
    "\n",
    "list_updated_task[-3:]"
   ]
  },
  {
   "cell_type": "code",
   "execution_count": 33,
   "metadata": {
    "collapsed": false
   },
   "outputs": [
    {
     "name": "stdout",
     "output_type": "stream",
     "text": [
      "{'0f': 'i', 'Hk': '2', 'ni': 'j', 'Hx': 'b', 'Sj': 'q', '+G': 'D', 'gj': 'n', 'A8': 'l', 'bl': 'd', '+5': 'z', 'pf': 'V', '+t': 'R', 'b4': 'U', 'nl': 'Q', 'ph': 'G', 'D6': 'Z', 'Lm': 'W', 'Tx': 'm', 'iI': 'f', 'Sm': 'P', 'i6': 'y', 'SG': 't', 'gJ': 'E', 'Ho': 'h', 'Tl': '5', 'Ai': 'w', 'Kf': '6', '08': 'N', 'Dk': 'O', 'Mo': 'g', 'ij': 's', 'bi': 'x', 'fJ': 'c', 'DI': '7', 'M6': 'F', 'Lo': '4', 'gh': 'e', 'n6': '3', 'fW': '0', 'eG': 'u', 'Lj': 'J', '0x': 'S', 'S5': '9', 'fG': '8', '+i': 'r', 'DH': 'T', 'AJ': 'k', 'Mg': 'M', 'Hi': '1', 'nG': 'o', 'fH': 'C', 'TG': 'L', 'Lx': '\\x0c', 'Ti': 'a', '0m': 'v', 'g5': 'Y', 'px': 'H', 'eH': 'I', 'Mt': 'p', 'KJ': 'X', 'Ay': 'K', 'K4': 'B'}\n"
     ]
    }
   ],
   "source": [
    "# create new dictionary from the hash_2_letter dictionary\n",
    "# each key is now only the first two letters\n",
    "mini_hash_2_letter = {k[:2] : hash_2_letter[k] for k in hash_2_letter}\n",
    "\n",
    "print(mini_hash_2_letter)"
   ]
  },
  {
   "cell_type": "code",
   "execution_count": 34,
   "metadata": {
    "collapsed": false
   },
   "outputs": [],
   "source": [
    "# for each element in list_updated_task, \n",
    "# add the decode letter to message \n",
    "message = [] \n",
    "\n",
    "for key in list_updated_task:\n",
    "    if key[:2] in mini_hash_2_letter:\n",
    "#         print(key, mini_hash_2_letter[key[:2]])\n",
    "        message.append(mini_hash_2_letter[key[:2]])    "
   ]
  },
  {
   "cell_type": "code",
   "execution_count": 35,
   "metadata": {
    "collapsed": false
   },
   "outputs": [
    {
     "data": {
      "text/plain": [
       "'G3RuHmX8i55HtojDrVdxq3Tcd2F6CYRTHaNrTedwGfaT6xyJmGBNzifRPg3uXeZT'"
      ]
     },
     "execution_count": 35,
     "metadata": {},
     "output_type": "execute_result"
    }
   ],
   "source": [
    "# response should be: 'G3RuHmX8i55HtojDrVdxq3Tcd2F6CYRTHaNrTedwGfaT6xyJmGBNzifRPg3uXeZT'\n",
    "\n",
    "# print the output from message and end (the last letter taken in the begining)\n",
    "\"\".join(message + end)"
   ]
  },
  {
   "cell_type": "code",
   "execution_count": 36,
   "metadata": {
    "collapsed": true
   },
   "outputs": [],
   "source": [
    "# submited the decoded answer, and (\"h4ck1t{th3_b3st_h@sh_3v3r}\"):"
   ]
  },
  {
   "cell_type": "markdown",
   "metadata": {},
   "source": [
    "![title](capture_india_success.JPG)"
   ]
  },
  {
   "cell_type": "code",
   "execution_count": 38,
   "metadata": {
    "collapsed": false
   },
   "outputs": [
    {
     "ename": "KeyError",
     "evalue": "'HqCCL/CC'",
     "output_type": "error",
     "traceback": [
      "\u001b[1;31m---------------------------------------------------------------------------\u001b[0m",
      "\u001b[1;31mKeyError\u001b[0m                                  Traceback (most recent call last)",
      "\u001b[1;32m<ipython-input-38-52f2844b32a7>\u001b[0m in \u001b[0;36m<module>\u001b[1;34m()\u001b[0m\n\u001b[0;32m      5\u001b[0m \u001b[0mtested_task\u001b[0m \u001b[1;33m=\u001b[0m \u001b[1;34m\"DH5qgJTb+th9nG3t0f66+5BHDkhqDIhS0xkL0f66ijLQKf0PniHIg5hMfGWsAyhog5hMg5hMA8ABMgblTlAXMtTtAJKJD6BV\"\u001b[0m \u001b[1;33m+\u001b[0m \u001b[1;34m\"niHITx6JTx6JHkHsphXzMoXZAi04phXziIBNfJk3LoPmnG3t+Gc8+Gc8HkHsHxQTKf0PSm1=n605SG62Sm1=SG62iIBNSjTaLm0hTlAXeHAkKf\"\u001b[0m \u001b[1;33m+\u001b[0m \u001b[1;34m\"0PfGWsTiLYHxQTL4HYTHLl+H6bglBTH5wtnI960jhbglBsHqCCL/CC\"\u001b[0m\u001b[1;33m\u001b[0m\u001b[0m\n\u001b[0;32m      6\u001b[0m \u001b[1;33m\u001b[0m\u001b[0m\n\u001b[1;32m----> 7\u001b[1;33m \u001b[0mextract_last_char\u001b[0m\u001b[1;33m(\u001b[0m\u001b[0mtested_task\u001b[0m\u001b[1;33m)\u001b[0m\u001b[1;33m\u001b[0m\u001b[0m\n\u001b[0m",
      "\u001b[1;32m<ipython-input-31-0961d90dc03c>\u001b[0m in \u001b[0;36mextract_last_char\u001b[1;34m(updated_task)\u001b[0m\n\u001b[0;32m      2\u001b[0m \u001b[1;32mdef\u001b[0m \u001b[0mextract_last_char\u001b[0m\u001b[1;33m(\u001b[0m\u001b[0mupdated_task\u001b[0m\u001b[1;33m)\u001b[0m\u001b[1;33m:\u001b[0m\u001b[1;33m\u001b[0m\u001b[0m\n\u001b[0;32m      3\u001b[0m     \u001b[0mend\u001b[0m \u001b[1;33m=\u001b[0m \u001b[1;33m[\u001b[0m\u001b[1;33m]\u001b[0m\u001b[1;33m\u001b[0m\u001b[0m\n\u001b[1;32m----> 4\u001b[1;33m     \u001b[0mend\u001b[0m\u001b[1;33m.\u001b[0m\u001b[0mappend\u001b[0m\u001b[1;33m(\u001b[0m\u001b[0mhash_2_letter\u001b[0m\u001b[1;33m[\u001b[0m\u001b[0mupdated_task\u001b[0m\u001b[1;33m[\u001b[0m\u001b[1;33m-\u001b[0m\u001b[1;36m8\u001b[0m\u001b[1;33m:\u001b[0m\u001b[1;33m]\u001b[0m\u001b[1;33m]\u001b[0m\u001b[1;33m)\u001b[0m\u001b[1;33m\u001b[0m\u001b[0m\n\u001b[0m\u001b[0;32m      5\u001b[0m \u001b[1;33m\u001b[0m\u001b[0m\n\u001b[0;32m      6\u001b[0m     \u001b[1;31m# remove it from the updated_task variable\u001b[0m\u001b[1;33m\u001b[0m\u001b[1;33m\u001b[0m\u001b[0m\n",
      "\u001b[1;31mKeyError\u001b[0m: 'HqCCL/CC'"
     ]
    }
   ],
   "source": [
    "# P.S \n",
    "\n",
    "# This approach didn't work sometimes, \n",
    "# because I didn't find the letter who represent the last 8 chars, didn't figure yet why..\n",
    "\n",
    "# for example the task: \\\n",
    "tested_task = \"DH5qgJTb+th9nG3t0f66+5BHDkhqDIhS0xkL0f66ijLQKf0PniHIg5hMfGWsAyhog5hMg5hMA8ABMgblTlAXMtTtAJKJD6BV\" + \\\n",
    "\"niHITx6JTx6JHkHsphXzMoXZAi04phXziIBNfJk3LoPmnG3t+Gc8+Gc8HkHsHxQTKf0PSm1=n605SG62Sm1=SG62iIBNSjTaLm0hTlAXeHAkKf\" + \\\n",
    "\"0PfGWsTiLYHxQTL4HYTHLl+H6bglBTH5wtnI960jhbglBsHqCCL/CC\"\n",
    "\n",
    "extract_last_char(tested_task)"
   ]
  },
  {
   "cell_type": "code",
   "execution_count": null,
   "metadata": {
    "collapsed": true
   },
   "outputs": [],
   "source": []
  }
 ],
 "metadata": {
  "kernelspec": {
   "display_name": "Python 3",
   "language": "python",
   "name": "python3"
  },
  "language_info": {
   "codemirror_mode": {
    "name": "ipython",
    "version": 3
   },
   "file_extension": ".py",
   "mimetype": "text/x-python",
   "name": "python",
   "nbconvert_exporter": "python",
   "pygments_lexer": "ipython3",
   "version": "3.5.2"
  }
 },
 "nbformat": 4,
 "nbformat_minor": 0
}
